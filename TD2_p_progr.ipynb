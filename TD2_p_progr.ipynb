{
 "cells": [
  {
   "cell_type": "markdown",
   "metadata": {},
   "source": [
    "# Exercice 1"
   ]
  },
  {
   "cell_type": "code",
   "execution_count": 11,
   "metadata": {},
   "outputs": [
    {
     "name": "stdout",
     "output_type": "stream",
     "text": [
      "saisir la première valeur: 3\n",
      "saisir la deuxième valeur: 1\n",
      "la plus pétite valeur est:  1\n"
     ]
    }
   ],
   "source": [
    "#min_max\n",
    "a= int(input(\"saisir la première valeur: \"))\n",
    "b= int(input(\"saisir la deuxième valeur: \"))\n",
    "if a<b:\n",
    "    print('la plus pétite valeur est: ', a)\n",
    "else:\n",
    "    print('la plus pétite valeur est: ', b)"
   ]
  },
  {
   "cell_type": "markdown",
   "metadata": {},
   "source": [
    "# Exercice2"
   ]
  },
  {
   "cell_type": "code",
   "execution_count": 2,
   "metadata": {},
   "outputs": [
    {
     "name": "stdout",
     "output_type": "stream",
     "text": [
      "saisir la première chaine)gdijslkds\n",
      "saisir la deuxième chaine)jj\n",
      "gdijslkds\n"
     ]
    }
   ],
   "source": [
    "#longeur chaine\n",
    "chaine1= input(str(\"saisir la première chaine)\"))\n",
    "chaine2= input(str(\"saisir la deuxième chaine)\"))\n",
    "if len(chaine1)>len(chaine2):\n",
    "    print(chaine1)\n",
    "else:\n",
    "    print(chaine2)"
   ]
  },
  {
   "cell_type": "markdown",
   "metadata": {},
   "source": [
    "# Exercice3"
   ]
  },
  {
   "cell_type": "code",
   "execution_count": 1,
   "metadata": {},
   "outputs": [
    {
     "name": "stdout",
     "output_type": "stream",
     "text": [
      "entrer votre devise: le caractère 'E' si la monnaie est en euro et '$' si la monnaie est en dollars\n",
      "entrer la devise que vous avez: $\n",
      "entrer le montant 12\n",
      "10.714285714285714E\n"
     ]
    }
   ],
   "source": [
    "print(\"entrer le caractère 'E' si la monnaie est en euro, '$' si la monnaie est en dollars\")\n",
    "# 1E=1.12$\n",
    "devise=input(\"entrer la devise que vous avez: \")\n",
    "montant= int(input(\"entrer le montant \"))\n",
    "\n",
    "if devise=='E':\n",
    "    print(str(montant*1.12)+ '$')\n",
    "elif devise=='$':\n",
    "    print(str(montant/1.12)+ 'E')\n",
    "else:\n",
    "    print('erreur')"
   ]
  },
  {
   "cell_type": "markdown",
   "metadata": {},
   "source": [
    "# Exercice4"
   ]
  },
  {
   "cell_type": "code",
   "execution_count": 1,
   "metadata": {},
   "outputs": [
    {
     "name": "stdout",
     "output_type": "stream",
     "text": [
      "je dois coder en python\n",
      "je dois coder en python\n",
      "je dois coder en python\n",
      "je dois coder en python\n",
      "je dois coder en python\n",
      "je dois coder en python\n",
      "je dois coder en python\n",
      "je dois coder en python\n",
      "je dois coder en python\n",
      "je dois coder en python\n",
      "je dois coder en python\n",
      "je dois coder en python\n",
      "je dois coder en python\n",
      "je dois coder en python\n",
      "je dois coder en python\n",
      "je dois coder en python\n",
      "je dois coder en python\n",
      "je dois coder en python\n",
      "je dois coder en python\n",
      "je dois coder en python\n",
      "je dois coder en python\n",
      "je dois coder en python\n",
      "je dois coder en python\n",
      "je dois coder en python\n",
      "je dois coder en python\n",
      "je dois coder en python\n",
      "je dois coder en python\n",
      "je dois coder en python\n",
      "je dois coder en python\n",
      "je dois coder en python\n",
      "je dois coder en python\n",
      "je dois coder en python\n",
      "je dois coder en python\n",
      "je dois coder en python\n",
      "je dois coder en python\n",
      "je dois coder en python\n",
      "je dois coder en python\n",
      "je dois coder en python\n",
      "je dois coder en python\n",
      "je dois coder en python\n",
      "je dois coder en python\n",
      "je dois coder en python\n",
      "je dois coder en python\n",
      "je dois coder en python\n",
      "je dois coder en python\n",
      "je dois coder en python\n",
      "je dois coder en python\n",
      "je dois coder en python\n",
      "je dois coder en python\n",
      "je dois coder en python\n"
     ]
    }
   ],
   "source": [
    "for i in range(50):\n",
    "    print(\"je dois coder en python\")\n"
   ]
  },
  {
   "cell_type": "markdown",
   "metadata": {},
   "source": [
    "# Exercice 5"
   ]
  },
  {
   "cell_type": "code",
   "execution_count": 11,
   "metadata": {},
   "outputs": [
    {
     "name": "stdout",
     "output_type": "stream",
     "text": [
      "11\n",
      "ce nombre n'est ni pair ni miltiple de 3\n"
     ]
    }
   ],
   "source": [
    "a= \"ce nombre est pair\"\n",
    "b= \"ce nombre est impair, mais est multiple de 3\"\n",
    "c= \"ce nombre n'est ni pair ni miltiple de 3\"\n",
    "d=int(input())\n",
    "if d%2==0:\n",
    "    print(a)\n",
    "elif d%2==1 and d%3==0:\n",
    "    print(b)\n",
    "else:\n",
    "    print(c)"
   ]
  },
  {
   "cell_type": "markdown",
   "metadata": {},
   "source": [
    "# Exercice 6"
   ]
  },
  {
   "cell_type": "code",
   "execution_count": 23,
   "metadata": {},
   "outputs": [
    {
     "name": "stdout",
     "output_type": "stream",
     "text": [
      "0\n",
      "2\n",
      "4\n",
      "6\n",
      "8\n",
      "10\n",
      "12\n",
      "14\n",
      "16\n",
      "18\n",
      "20\n",
      "22\n",
      "24\n",
      "26\n",
      "28\n",
      "30\n",
      "32\n",
      "34\n",
      "36\n",
      "38\n",
      "40\n",
      "42\n",
      "44\n",
      "46\n",
      "48\n",
      "50\n",
      "52\n",
      "54\n",
      "56\n",
      "58\n",
      "60\n",
      "62\n",
      "64\n",
      "66\n",
      "68\n",
      "70\n",
      "72\n",
      "74\n",
      "76\n",
      "78\n",
      "80\n",
      "82\n",
      "84\n",
      "86\n",
      "88\n",
      "90\n",
      "92\n",
      "94\n",
      "96\n",
      "98\n",
      "100\n"
     ]
    }
   ],
   "source": [
    "#un programme qui affiche les nombres 2 en 2 jusqu'à 100\n",
    "for i in range(0,101,2):\n",
    "       print(i)\n",
    "        \n",
    "    #Exo6 boucle while\n",
    "i=0\n",
    "while(i<=100):\n",
    "    print(i)\n",
    "    i+=2\n",
    "        "
   ]
  },
  {
   "cell_type": "code",
   "execution_count": 23,
   "metadata": {},
   "outputs": [
    {
     "name": "stdout",
     "output_type": "stream",
     "text": [
      "0\n",
      "2\n",
      "4\n",
      "6\n",
      "8\n",
      "10\n",
      "12\n",
      "14\n",
      "16\n",
      "18\n",
      "20\n",
      "22\n",
      "24\n",
      "26\n",
      "28\n",
      "30\n",
      "32\n",
      "34\n",
      "36\n",
      "38\n",
      "40\n",
      "42\n",
      "44\n",
      "46\n",
      "48\n",
      "50\n",
      "52\n",
      "54\n",
      "56\n",
      "58\n",
      "60\n",
      "62\n",
      "64\n",
      "66\n",
      "68\n",
      "70\n",
      "72\n",
      "74\n",
      "76\n",
      "78\n",
      "80\n",
      "82\n",
      "84\n",
      "86\n",
      "88\n",
      "90\n",
      "92\n",
      "94\n",
      "96\n",
      "98\n",
      "100\n"
     ]
    }
   ],
   "source": [
    "#Exo6 boucle while\n",
    "i=0\n",
    "while(i<=100):\n",
    "    print(i)\n",
    "    i+=2"
   ]
  },
  {
   "cell_type": "markdown",
   "metadata": {},
   "source": [
    "# Exercice7"
   ]
  },
  {
   "cell_type": "code",
   "execution_count": 21,
   "metadata": {},
   "outputs": [
    {
     "name": "stdout",
     "output_type": "stream",
     "text": [
      "1 x 1 = 1\n",
      "1 x 2 = 2\n",
      "1 x 3 = 3\n",
      "1 x 4 = 4\n",
      "1 x 5 = 5\n",
      "1 x 6 = 6\n",
      "1 x 7 = 7\n",
      "1 x 8 = 8\n",
      "1 x 9 = 9\n",
      "1 x 10 = 10\n",
      "\n",
      "2 x 1 = 2\n",
      "2 x 2 = 4\n",
      "2 x 3 = 6\n",
      "2 x 4 = 8\n",
      "2 x 5 = 10\n",
      "2 x 6 = 12\n",
      "2 x 7 = 14\n",
      "2 x 8 = 16\n",
      "2 x 9 = 18\n",
      "2 x 10 = 20\n",
      "\n",
      "3 x 1 = 3\n",
      "3 x 2 = 6\n",
      "3 x 3 = 9\n",
      "3 x 4 = 12\n",
      "3 x 5 = 15\n",
      "3 x 6 = 18\n",
      "3 x 7 = 21\n",
      "3 x 8 = 24\n",
      "3 x 9 = 27\n",
      "3 x 10 = 30\n",
      "\n",
      "4 x 1 = 4\n",
      "4 x 2 = 8\n",
      "4 x 3 = 12\n",
      "4 x 4 = 16\n",
      "4 x 5 = 20\n",
      "4 x 6 = 24\n",
      "4 x 7 = 28\n",
      "4 x 8 = 32\n",
      "4 x 9 = 36\n",
      "4 x 10 = 40\n",
      "\n",
      "5 x 1 = 5\n",
      "5 x 2 = 10\n",
      "5 x 3 = 15\n",
      "5 x 4 = 20\n",
      "5 x 5 = 25\n",
      "5 x 6 = 30\n",
      "5 x 7 = 35\n",
      "5 x 8 = 40\n",
      "5 x 9 = 45\n",
      "5 x 10 = 50\n",
      "\n",
      "6 x 1 = 6\n",
      "6 x 2 = 12\n",
      "6 x 3 = 18\n",
      "6 x 4 = 24\n",
      "6 x 5 = 30\n",
      "6 x 6 = 36\n",
      "6 x 7 = 42\n",
      "6 x 8 = 48\n",
      "6 x 9 = 54\n",
      "6 x 10 = 60\n",
      "\n",
      "7 x 1 = 7\n",
      "7 x 2 = 14\n",
      "7 x 3 = 21\n",
      "7 x 4 = 28\n",
      "7 x 5 = 35\n",
      "7 x 6 = 42\n",
      "7 x 7 = 49\n",
      "7 x 8 = 56\n",
      "7 x 9 = 63\n",
      "7 x 10 = 70\n",
      "\n",
      "8 x 1 = 8\n",
      "8 x 2 = 16\n",
      "8 x 3 = 24\n",
      "8 x 4 = 32\n",
      "8 x 5 = 40\n",
      "8 x 6 = 48\n",
      "8 x 7 = 56\n",
      "8 x 8 = 64\n",
      "8 x 9 = 72\n",
      "8 x 10 = 80\n",
      "\n",
      "9 x 1 = 9\n",
      "9 x 2 = 18\n",
      "9 x 3 = 27\n",
      "9 x 4 = 36\n",
      "9 x 5 = 45\n",
      "9 x 6 = 54\n",
      "9 x 7 = 63\n",
      "9 x 8 = 72\n",
      "9 x 9 = 81\n",
      "9 x 10 = 90\n",
      "\n",
      "10 x 1 = 10\n",
      "10 x 2 = 20\n",
      "10 x 3 = 30\n",
      "10 x 4 = 40\n",
      "10 x 5 = 50\n",
      "10 x 6 = 60\n",
      "10 x 7 = 70\n",
      "10 x 8 = 80\n",
      "10 x 9 = 90\n",
      "10 x 10 = 100\n",
      "\n"
     ]
    }
   ],
   "source": [
    "for x in range (1,11):\n",
    "    for y in range (1,11):\n",
    "        \n",
    "        print(\"%d x %d = %d\" % (x,y, x*y))\n",
    "    print()"
   ]
  },
  {
   "cell_type": "markdown",
   "metadata": {},
   "source": [
    " # Exercice 8"
   ]
  },
  {
   "cell_type": "code",
   "execution_count": 28,
   "metadata": {
    "scrolled": true
   },
   "outputs": [
    {
     "name": "stdout",
     "output_type": "stream",
     "text": [
      "coq\n",
      "mouton\n",
      "chien\n",
      "chat\n",
      "souris\n"
     ]
    }
   ],
   "source": [
    "liste_animaux=[\"coq\", \"mouton\", \"chien\", \"chat\", \"souris\"]\n",
    "for animal in liste_animaux:\n",
    "    print(animal)"
   ]
  },
  {
   "cell_type": "markdown",
   "metadata": {},
   "source": [
    "# Exercice 9"
   ]
  },
  {
   "cell_type": "code",
   "execution_count": 31,
   "metadata": {},
   "outputs": [
    {
     "name": "stdout",
     "output_type": "stream",
     "text": [
      "souris\n",
      "chat\n",
      "chien\n",
      "mouton\n",
      "coq\n"
     ]
    }
   ],
   "source": [
    "liste_animaux=[\"coq\", \"mouton\", \"chien\", \"chat\", \"souris\"]\n",
    "liste_animaux.reverse()\n",
    "for i in liste_animaux:\n",
    "    print(i)\n",
    "    "
   ]
  },
  {
   "cell_type": "markdown",
   "metadata": {},
   "source": [
    "# Exercice10"
   ]
  },
  {
   "cell_type": "code",
   "execution_count": 43,
   "metadata": {},
   "outputs": [
    {
     "name": "stdout",
     "output_type": "stream",
     "text": [
      "chat\n",
      "chien\n",
      "coq\n",
      "mouton\n",
      "souris\n"
     ]
    }
   ],
   "source": [
    "liste_animaux=[\"coq\", \"mouton\", \"chien\", \"chat\", \"souris\"]\n",
    "liste_animaux.sort()\n",
    "for i in liste_animaux:\n",
    "    print(i)"
   ]
  },
  {
   "cell_type": "markdown",
   "metadata": {},
   "source": [
    "# Exercice11"
   ]
  },
  {
   "cell_type": "code",
   "execution_count": 47,
   "metadata": {},
   "outputs": [
    {
     "name": "stdout",
     "output_type": "stream",
     "text": [
      "panthere\n",
      "lion\n"
     ]
    }
   ],
   "source": [
    "liste_animaux=[\"panthere\", \"chevre\", \"chien\", \"chat\", \"lion\"]\n",
    "liste_animaux.append(\"troll\")\n",
    "for i in (\"chevre\",\"chien\",\"chat\",\"troll\"):\n",
    "    liste_animaux.remove(i)\n",
    "for j in liste_animaux:\n",
    "    print(j)"
   ]
  },
  {
   "cell_type": "markdown",
   "metadata": {},
   "source": [
    "# Exercice 12"
   ]
  },
  {
   "cell_type": "code",
   "execution_count": 48,
   "metadata": {},
   "outputs": [
    {
     "name": "stdout",
     "output_type": "stream",
     "text": [
      "mariam possède 6 caractères\n",
      "salut possède 5 caractères\n",
      "sadia possède 5 caractères\n",
      "valerie possède 7 caractères\n"
     ]
    }
   ],
   "source": [
    "liste_chaine=['mariam','salut','sadia','valerie']\n",
    "for i in liste_chaine:\n",
    "    print(i, \"possède\", len(i), \"caractères\")"
   ]
  },
  {
   "cell_type": "code",
   "execution_count": null,
   "metadata": {},
   "outputs": [],
   "source": []
  }
 ],
 "metadata": {
  "kernelspec": {
   "display_name": "Python 3",
   "language": "python",
   "name": "python3"
  },
  "language_info": {
   "codemirror_mode": {
    "name": "ipython",
    "version": 3
   },
   "file_extension": ".py",
   "mimetype": "text/x-python",
   "name": "python",
   "nbconvert_exporter": "python",
   "pygments_lexer": "ipython3",
   "version": "3.8.8"
  }
 },
 "nbformat": 4,
 "nbformat_minor": 4
}
